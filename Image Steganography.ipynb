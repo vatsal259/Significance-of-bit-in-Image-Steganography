{
  "cells": [
    {
      "cell_type": "markdown",
      "metadata": {},
      "source": [
        "# Image to image stegnography using LSB"
      ]
    },
    {
      "cell_type": "code",
      "execution_count": null,
      "metadata": {
        "colab": {},
        "colab_type": "code",
        "id": "jVsuCuRZOsqV"
      },
      "outputs": [],
      "source": [
        "from PIL import Image"
      ]
    },
    {
      "cell_type": "code",
      "execution_count": null,
      "metadata": {
        "colab": {},
        "colab_type": "code",
        "id": "8w3qWvBSQSUB"
      },
      "outputs": [],
      "source": [
        "image1 = Image.open('/Path')\n",
        "image2=Image.open('/Path')"
      ]
    },
    {
      "cell_type": "code",
      "execution_count": null,
      "metadata": {
        "colab": {
          "base_uri": "https://localhost:8080/",
          "height": 385
        },
        "colab_type": "code",
        "id": "GTia-pO5AI_V",
        "outputId": "76eb7d96-5be5-4586-aca7-fca59c2ef54d"
      },
      "outputs": [],
      "source": [
        "image1"
      ]
    },
    {
      "cell_type": "code",
      "execution_count": null,
      "metadata": {
        "colab": {
          "base_uri": "https://localhost:8080/",
          "height": 300
        },
        "colab_type": "code",
        "id": "0r2Y1_ZWAKnu",
        "outputId": "22ae1a92-842e-41cb-fdbe-f3c0635c5688"
      },
      "outputs": [],
      "source": [
        "image2"
      ]
    },
    {
      "cell_type": "code",
      "execution_count": null,
      "metadata": {
        "colab": {
          "base_uri": "https://localhost:8080/",
          "height": 34
        },
        "colab_type": "code",
        "id": "DfDf_zmqTsxG",
        "outputId": "54865616-19c2-4629-b829-04ee1f5e6897"
      },
      "outputs": [],
      "source": [
        "image1.size"
      ]
    },
    {
      "cell_type": "markdown",
      "metadata": {
        "colab_type": "text",
        "id": "UlaiKbJrGrfh"
      },
      "source": [
        "#### Resizing Image 1"
      ]
    },
    {
      "cell_type": "code",
      "execution_count": null,
      "metadata": {
        "colab": {},
        "colab_type": "code",
        "id": "PDyNoG28AYPM"
      },
      "outputs": [],
      "source": [
        "image1= image1.resize((200,250))"
      ]
    },
    {
      "cell_type": "code",
      "execution_count": null,
      "metadata": {
        "colab": {
          "base_uri": "https://localhost:8080/",
          "height": 217
        },
        "colab_type": "code",
        "id": "A3jwyGftAlpY",
        "outputId": "b98f3d87-04e4-4363-9ab1-3bfc674f8a5d"
      },
      "outputs": [],
      "source": [
        "image1"
      ]
    },
    {
      "cell_type": "code",
      "execution_count": null,
      "metadata": {
        "colab": {
          "base_uri": "https://localhost:8080/",
          "height": 34
        },
        "colab_type": "code",
        "id": "OHv53qZGApHF",
        "outputId": "113989d4-5322-41eb-a46a-d9a545733ae9"
      },
      "outputs": [],
      "source": [
        "image1.size"
      ]
    },
    {
      "cell_type": "code",
      "execution_count": null,
      "metadata": {
        "colab": {
          "base_uri": "https://localhost:8080/",
          "height": 34
        },
        "colab_type": "code",
        "id": "fVMCyXsEAPdQ",
        "outputId": "aa454d90-32d9-4ffe-f95c-9ff5200ee01c"
      },
      "outputs": [],
      "source": [
        "image2.size"
      ]
    },
    {
      "cell_type": "markdown",
      "metadata": {
        "colab_type": "text",
        "id": "aaUQ-mo5AtVL"
      },
      "source": [
        "## Merging image 1  on image 2\n"
      ]
    },
    {
      "cell_type": "markdown",
      "metadata": {
        "colab_type": "text",
        "id": "A3D1D_hmDiXg"
      },
      "source": [
        "#### Integer to binary Coversion\n",
        "#### Will convert RGB pixel values from integer to binary\n",
        "#### INPUT: An integer tuple (e.g. (220, 110, 96))\n",
        "#### OUTPUT: A string tuple (e.g. (\"00101010\", \"11101011\", \"00010110\"))\n"
      ]
    },
    {
      "cell_type": "code",
      "execution_count": null,
      "metadata": {
        "colab": {},
        "colab_type": "code",
        "id": "Pvc_1-bfBdzm"
      },
      "outputs": [],
      "source": [
        "def int2bin(rgb): \n",
        "    r, g, b = rgb\n",
        "    return ('{0:08b}'.format(r),\n",
        "            '{0:08b}'.format(g),\n",
        "            '{0:08b}'.format(b))\n",
        "    #Return converted r,g,b binary values separately.."
      ]
    },
    {
      "cell_type": "markdown",
      "metadata": {
        "colab_type": "text",
        "id": "CPsi0HSvEByL"
      },
      "source": [
        "#### Binary to Integer Conversion\n",
        "#### Will convert RGB pixel values from binary to integer.\n",
        "#### Reverse of the first part.\n",
        "\n"
      ]
    },
    {
      "cell_type": "code",
      "execution_count": null,
      "metadata": {
        "colab": {},
        "colab_type": "code",
        "id": "BJSKdxRuEBhq"
      },
      "outputs": [],
      "source": [
        "def bin2int(rgb):\n",
        "    r, g, b = rgb\n",
        "    return (int(r, 2),\n",
        "            int(g, 2),\n",
        "            int(b, 2))\n",
        "    #return converted r,g,b integer values separately"
      ]
    },
    {
      "cell_type": "markdown",
      "metadata": {},
      "source": [
        "#### Merging of bits\n",
        "#### Will merge two RGB pixels using 4 least significant bits.\n",
        "#### INPUT: A string tuple ( (\"00101010\", \"11101011\", \"00010110\")),another string tuple (e.g. (\"00101010\", \"11101011\", \"00010110\"))\n",
        "#### OUTPUT: An integer tuple with the two RGB values merged\n",
        "#### Will be merging the first four digits of first image and first four digits of 2nd image(i.e to be merged) as last four digits.."
      ]
    },
    {
      "cell_type": "code",
      "execution_count": null,
      "metadata": {
        "colab": {},
        "colab_type": "code",
        "id": "Q24UyhNZH8-W"
      },
      "outputs": [],
      "source": [
        "def merge2rgb(rgb1,rgb2):\n",
        "    r1,g1,b1=rgb1\n",
        "    r2,g2,b2=rgb2\n",
        "\n",
        "    return (r1[:4]+r2[:4],\n",
        "             g1[:4]+g2[:4],\n",
        "             b1[:4]+b2[:4]\n",
        "          )"
      ]
    },
    {
      "cell_type": "markdown",
      "metadata": {
        "colab_type": "text",
        "id": "3-tQ12IzL5Vj"
      },
      "source": [
        "#### Function to merge two Images\n"
      ]
    },
    {
      "cell_type": "code",
      "execution_count": null,
      "metadata": {
        "colab": {},
        "colab_type": "code",
        "id": "fSpiA-q0L2sZ"
      },
      "outputs": [],
      "source": [
        "def merge2img(img1,img2):\n",
        "  # The First image will be merged into the second image.\n",
        "\n",
        "\n",
        "  image1=img1\n",
        "  image2=img2\n",
        "  #print('rahul')\n",
        "  \n",
        "  # Condition for merging\n",
        "  if(image1.size[0]>image2.size[0] or image1.size[1]>image2.size[1]):\n",
        "    print(\"Cannot merge as the size of 1st Image is greater than size of 2nd Image\")\n",
        "    return\n",
        "  # Getting the pixel map of the two images\n",
        "\n",
        "  pixel_tuple1 = image1.load()\n",
        "  pixel_tuple2 = image2.load()\n",
        "\n",
        "  #print(pixel_tuple1)\n",
        "  #print(pixel_tuple2)\n",
        "\n",
        "  # The new image that will be created.\n",
        "  new_image = Image.new(image2.mode, image2.size) # Setting the size of Image 2 as Image 1 will be merged to Image 2.\n",
        "  pixels_new = new_image.load()\n",
        "\n",
        "  for row in range(image2.size[0]):\n",
        "    for col in range(image2.size[1]):\n",
        "\n",
        "        rgb1 = int2bin(pixel_tuple2[row, col])\n",
        "\n",
        "        # Using a black pixel as default\n",
        "        rgb2 = int2bin((0, 0, 0))\n",
        "\n",
        "        # Converting the pixels of image 1 if condition is satisfied\n",
        "\n",
        "        if(row <image1.size[0] and col< image1.size[1]):\n",
        "          rgb2= int2bin(pixel_tuple1[row,col])\n",
        "\n",
        "\n",
        "        merge_rgb= merge2rgb(rgb1,rgb2)\n",
        "\n",
        "        pixels_new[row,col] = bin2int(merge_rgb) \n",
        "\n",
        "  new_image.convert('RGB').save('merged1.jpg')\n",
        "    \n",
        "  return new_image   \n",
        "\n"
      ]
    },
    {
      "cell_type": "code",
      "execution_count": null,
      "metadata": {
        "colab": {
          "base_uri": "https://localhost:8080/",
          "height": 300
        },
        "colab_type": "code",
        "id": "yhRug_sBRSRV",
        "outputId": "0884ff2c-cba2-4684-d9eb-7a4abea89aea"
      },
      "outputs": [],
      "source": [
        "merge2img(image1,image2)"
      ]
    },
    {
      "cell_type": "markdown",
      "metadata": {
        "colab_type": "text",
        "id": "W1KDQOayTzix"
      },
      "source": [
        "#### See now our image 1 is merged inside image 2.But still image 2 is almost looking as it was earlier..\n"
      ]
    },
    {
      "cell_type": "code",
      "execution_count": null,
      "metadata": {
        "colab": {},
        "colab_type": "code",
        "id": "SrZRm4c5Vscf"
      },
      "outputs": [],
      "source": [
        "def unmerge(path):\n",
        "\n",
        "    img=Image.open(path)\n",
        "\n",
        "    # Loading the pixel map\n",
        "    pixel_map = img.load()\n",
        "\n",
        "    new_image = Image.new(img.mode, img.size)\n",
        "    pixels_new = new_image.load()\n",
        "\n",
        "    # Tuple used to store the image original size\n",
        "    original_size = img.size\n",
        "\n",
        "    for row in range(img.size[0]):\n",
        "        for col in range(img.size[1]):\n",
        "            # Get the RGB (as a string tuple) from the current pixel\n",
        "            r, g, b = int2bin(pixel_map[row, col])\n",
        "\n",
        "            # Extract the last 4 bits (corresponding to the hidden image)\n",
        "            # Concatenate 4 zero bits because we are working with 8 bit values\n",
        "            rgb = (r[4:] + \"0000\",\n",
        "                   g[4:] + \"0000\",\n",
        "                   b[4:] + \"0000\")\n",
        "\n",
        "            # Convert it to an integer tuple\n",
        "            pixels_new[row, col] = bin2int(rgb)\n",
        "\n",
        "            # If this is a 'valid' position, store it\n",
        "            # as the last valid position\n",
        "            if pixels_new[row, col] != (0, 0, 0):\n",
        "                original_size = (row + 1, col + 1)\n",
        "\n",
        "    # Crop the image based on the 'valid' pixels\n",
        "    new_image = new_image.crop((0, 0, original_size[0], original_size[1]))\n",
        "\n",
        "    new_image.save('unmerged1.png')\n",
        "    \n",
        "    return new_image"
      ]
    },
    {
      "cell_type": "code",
      "execution_count": null,
      "metadata": {
        "colab": {
          "base_uri": "https://localhost:8080/",
          "height": 300
        },
        "colab_type": "code",
        "id": "ad-JuDlXVzEf",
        "outputId": "ee050697-f482-4d6e-8cee-86472eefff6b"
      },
      "outputs": [],
      "source": [
        "unmerge('/Users/vatsal/ISM_img_steg/merged1.jpg')"
      ]
    },
    {
      "cell_type": "markdown",
      "metadata": {
        "colab_type": "text",
        "id": "hGzwaPAAWqad"
      },
      "source": [
        "#### Here we are seeing that the unmerged image is not clear at all now we changing our merging pattern.\n",
        "#### We can now take 2 MSBs from image 1 and add 6 MSBs of image2 while merging.."
      ]
    },
    {
      "cell_type": "code",
      "execution_count": null,
      "metadata": {
        "colab": {},
        "colab_type": "code",
        "id": "maj8fvQsXQYb"
      },
      "outputs": [],
      "source": [
        "def merge2rgb2(rgb1, rgb2):\n",
        "    \n",
        "    r1, g1, b1 = rgb1\n",
        "    r2, g2, b2 = rgb2\n",
        "    rgb = (r1[:6] + r2[:2],\n",
        "           g1[:6] + g2[:2],\n",
        "           b1[:6] + b2[:2])\n",
        "    return rgb"
      ]
    },
    {
      "cell_type": "code",
      "execution_count": null,
      "metadata": {
        "colab": {},
        "colab_type": "code",
        "id": "X8TLut9RXVPc"
      },
      "outputs": [],
      "source": [
        "def merge2img2(img1, img2):\n",
        "\n",
        "    image1=img1\n",
        "    image2=img2\n",
        "    #print('rahul')\n",
        "  \n",
        "    # Condition for merging\n",
        "    if(image1.size[0]>image2.size[0] or image1.size[1]>image2.size[1]):\n",
        "       print(\"Cannot merge as the size of 1st Image is greater than size of 2nd Image\")\n",
        "       return\n",
        "  \n",
        "  # Getting the pixel map of the two images\n",
        "    pixel_tuple1 = image1.load()\n",
        "    pixel_tuple2 = image2.load()\n",
        "\n",
        "    #print(pixel_tuple1)\n",
        "    #print(pixel_tuple2)\n",
        "\n",
        "    # The new image that will be created.\n",
        "    new_image = Image.new(image2.mode, image2.size) # Setting the size of Image 2 as Image 1 will be merged to Image 2.\n",
        "    pixels_new = new_image.load()\n",
        "\n",
        "    for row in range(image2.size[0]):\n",
        "      for col in range(image2.size[1]):\n",
        "\n",
        "        rgb1 = int2bin(pixel_tuple2[row, col])\n",
        "\n",
        "        # Using a black pixel as default\n",
        "        rgb2 = int2bin((0, 0, 0))\n",
        "\n",
        "        # Converting the pixels of image 1 if condition is satisfied\n",
        "\n",
        "        if(row <image1.size[0] and col< image1.size[1]):\n",
        "          rgb2= int2bin(pixel_tuple1[row,col])\n",
        "\n",
        "\n",
        "        merge_rgb= merge2rgb2(rgb1,rgb2)\n",
        "\n",
        "        pixels_new[row,col] = bin2int(merge_rgb) \n",
        "\n",
        "    #print('rahul')\n",
        "    new_image.convert('RGB').save('merged2.jpg')\n",
        "    \n",
        "    return new_image"
      ]
    },
    {
      "cell_type": "code",
      "execution_count": null,
      "metadata": {
        "colab": {},
        "colab_type": "code",
        "id": "72wD_QFpXYnX"
      },
      "outputs": [],
      "source": [
        "def unmerge2(img):\n",
        "    \n",
        "    pixel_map = img.load()\n",
        "\n",
        "    new_image = Image.new(img.mode, img.size)\n",
        "    pixels_new = new_image.load()\n",
        "\n",
        "    \n",
        "    original_size = img.size\n",
        "\n",
        "    for row in range(img.size[0]):\n",
        "        for col in range(img.size[1]):\n",
        "            r, g, b = int2bin(pixel_map[row, col])\n",
        "\n",
        "            # Extracting the last 6 bits (corresponding to the hidden image) and adding zeroes to increase the brightness.\n",
        "            \n",
        "            rgb = (r[6:] + \"000000\",\n",
        "                   g[6:] + \"000000\",\n",
        "                   b[6:] + \"000000\")\n",
        "\n",
        "            # Convert it to an integer tuple\n",
        "            pixels_new[row, col] = bin2int(rgb)\n",
        "\n",
        "           #If this is a 'valid' position, store it as a last valid option\n",
        "            if pixels_new[row, col] != (0, 0, 0):\n",
        "                original_size = (row + 1, col + 1)\n",
        "\n",
        "    # Crop the image based on the 'valid' pixels\n",
        "    new_image = new_image.crop((0, 0, original_size[0], original_size[1]))\n",
        "\n",
        "    return new_image"
      ]
    },
    {
      "cell_type": "code",
      "execution_count": null,
      "metadata": {
        "colab": {
          "base_uri": "https://localhost:8080/",
          "height": 300
        },
        "colab_type": "code",
        "id": "PBfA0m2XXg4y",
        "outputId": "43f3ce08-4201-4a17-ead2-eb97bf161c10"
      },
      "outputs": [],
      "source": [
        "merged_image2 = merge2img2(image1,image2)\n",
        "merged_image2"
      ]
    },
    {
      "cell_type": "code",
      "execution_count": null,
      "metadata": {
        "colab": {
          "base_uri": "https://localhost:8080/",
          "height": 217
        },
        "colab_type": "code",
        "id": "XEkZE1OcX-PL",
        "outputId": "1096891f-b278-48c3-854c-5ca9d47520d6"
      },
      "outputs": [],
      "source": [
        "unmerged_image2 = unmerge2(merged_image2)\n",
        "unmerged_image2"
      ]
    },
    {
      "cell_type": "markdown",
      "metadata": {
        "colab_type": "text",
        "id": "D7hlulVa_TVW"
      },
      "source": [
        "#### So we have concluded that the 2 MSBs of Image 1 were more important than 4 MSBs of image 1, they were adding noise to the image. So merging 6 MSBs of Image2 and 2 MSBs of Image 1 was fruitful.\n",
        "#### Limit\n",
        "#### GUI"
      ]
    }
  ],
  "metadata": {
    "colab": {
      "collapsed_sections": [],
      "name": "Image Steganography.ipynb",
      "provenance": [],
      "toc_visible": true
    },
    "kernelspec": {
      "display_name": "Python 3",
      "name": "python3"
    },
    "language_info": {
      "codemirror_mode": {
        "name": "ipython",
        "version": 3
      },
      "file_extension": ".py",
      "mimetype": "text/x-python",
      "name": "python",
      "nbconvert_exporter": "python",
      "pygments_lexer": "ipython3",
      "version": "3.8.12"
    }
  },
  "nbformat": 4,
  "nbformat_minor": 0
}
